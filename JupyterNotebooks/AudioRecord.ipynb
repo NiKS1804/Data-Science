{
 "cells": [
  {
   "cell_type": "code",
   "execution_count": 1,
   "id": "1748124e",
   "metadata": {},
   "outputs": [
    {
     "name": "stdout",
     "output_type": "stream",
     "text": [
      "Collecting sounddevice\n",
      "  Downloading sounddevice-0.4.2-py3-none-macosx_10_6_x86_64.whl (75 kB)\n",
      "\u001b[K     |████████████████████████████████| 75 kB 436 kB/s eta 0:00:01\n",
      "\u001b[?25hRequirement already satisfied: CFFI>=1.0 in /Users/nitishsingh/opt/anaconda3/lib/python3.8/site-packages (from sounddevice) (1.14.5)\n",
      "Requirement already satisfied: pycparser in /Users/nitishsingh/opt/anaconda3/lib/python3.8/site-packages (from CFFI>=1.0->sounddevice) (2.20)\n",
      "Installing collected packages: sounddevice\n",
      "Successfully installed sounddevice-0.4.2\n"
     ]
    }
   ],
   "source": [
    "!pip install sounddevice"
   ]
  },
  {
   "cell_type": "code",
   "execution_count": 2,
   "id": "3f5390be",
   "metadata": {},
   "outputs": [
    {
     "name": "stdout",
     "output_type": "stream",
     "text": [
      "Requirement already satisfied: scipy in /Users/nitishsingh/opt/anaconda3/lib/python3.8/site-packages (1.6.2)\r\n",
      "Requirement already satisfied: numpy<1.23.0,>=1.16.5 in /Users/nitishsingh/opt/anaconda3/lib/python3.8/site-packages (from scipy) (1.20.1)\r\n"
     ]
    }
   ],
   "source": [
    "!pip install scipy"
   ]
  },
  {
   "cell_type": "code",
   "execution_count": 6,
   "id": "9baa6751",
   "metadata": {},
   "outputs": [
    {
     "name": "stdout",
     "output_type": "stream",
     "text": [
      "Password:\n",
      "sudo: a password is required\n"
     ]
    }
   ],
   "source": [
    "!sudo apt-get install libportaudio2"
   ]
  },
  {
   "cell_type": "code",
   "execution_count": 7,
   "id": "951468f3",
   "metadata": {},
   "outputs": [],
   "source": [
    "import sounddevice\n",
    "from scipy.io.wavfile import write"
   ]
  },
  {
   "cell_type": "code",
   "execution_count": 12,
   "id": "c33e94e3",
   "metadata": {},
   "outputs": [
    {
     "data": {
      "text/plain": [
       "* 0 MacBook Pro Microphone, Core Audio (1 in, 0 out)\n",
       "  1 MacBook Pro Speakers, Core Audio (0 in, 2 out)"
      ]
     },
     "execution_count": 12,
     "metadata": {},
     "output_type": "execute_result"
    }
   ],
   "source": [
    "sounddevice.query_devices()"
   ]
  },
  {
   "cell_type": "code",
   "execution_count": 11,
   "id": "9d12ea07",
   "metadata": {},
   "outputs": [],
   "source": [
    "sounddevice.default.device = 0"
   ]
  },
  {
   "cell_type": "code",
   "execution_count": 9,
   "id": "c4ad6f62",
   "metadata": {},
   "outputs": [
    {
     "name": "stdout",
     "output_type": "stream",
     "text": [
      "Enter time duration in seconds: 10\n"
     ]
    }
   ],
   "source": [
    "fs= 44100\n",
    "second =  int(input(\"Enter time duration in seconds: \"))"
   ]
  },
  {
   "cell_type": "code",
   "execution_count": 15,
   "id": "14aaeb03",
   "metadata": {},
   "outputs": [],
   "source": [
    "record_voice = sounddevice.rec( int ( second * fs ) , samplerate = fs , channels = 1)\n",
    "sounddevice.wait()"
   ]
  },
  {
   "cell_type": "code",
   "execution_count": 16,
   "id": "295fc6a7",
   "metadata": {},
   "outputs": [
    {
     "name": "stdout",
     "output_type": "stream",
     "text": [
      "Finished.....nPlease check your output file\n"
     ]
    }
   ],
   "source": [
    "write(\"out.wav\",fs,record_voice)\n",
    "print(\"Finished.....nPlease check your output file\")"
   ]
  },
  {
   "cell_type": "code",
   "execution_count": null,
   "id": "a0428565",
   "metadata": {},
   "outputs": [],
   "source": []
  }
 ],
 "metadata": {
  "kernelspec": {
   "display_name": "Python 3",
   "language": "python",
   "name": "python3"
  },
  "language_info": {
   "codemirror_mode": {
    "name": "ipython",
    "version": 3
   },
   "file_extension": ".py",
   "mimetype": "text/x-python",
   "name": "python",
   "nbconvert_exporter": "python",
   "pygments_lexer": "ipython3",
   "version": "3.8.8"
  }
 },
 "nbformat": 4,
 "nbformat_minor": 5
}
